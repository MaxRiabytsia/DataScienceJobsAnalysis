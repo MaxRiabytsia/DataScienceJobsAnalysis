{
 "cells": [
  {
   "cell_type": "code",
   "execution_count": 1,
   "id": "99cb1060-c74c-4b6f-b990-d5f5aa6764ea",
   "metadata": {
    "pycharm": {
     "name": "#%%\n"
    }
   },
   "outputs": [],
   "source": [
    "import pandas as pd"
   ]
  },
  {
   "cell_type": "markdown",
   "id": "de7a6cfe-a865-4a0d-8f93-686eae37fb69",
   "metadata": {
    "jp-MarkdownHeadingCollapsed": true,
    "tags": [],
    "pycharm": {
     "name": "#%% md\n"
    }
   },
   "source": [
    "## The extracting stage"
   ]
  },
  {
   "cell_type": "markdown",
   "source": [
    "The extracting stage is happening in \"scrape_row_jobs.py\".\n",
    "\n",
    "In this stage I web-scraped data from search results of Indeed.com. To get the HTML of the pages I used requests Python library and for scraping I used bs4 Python library.\n",
    "\n",
    "I decided that it would be easier to get required experience levels for jobs by using Indeed filters rather than scraping this information from jobs' descriptions.\n",
    "\n",
    "In order to avoid receiving a CAPTCHA I added few time.sleep() functions for a few seconds to imitate human browsing speed.\n",
    "\n",
    "You can see the result of this stage as the dataset below."
   ],
   "metadata": {
    "collapsed": false,
    "pycharm": {
     "name": "#%% md\n"
    }
   }
  },
  {
   "cell_type": "code",
   "execution_count": 2,
   "id": "d94221fd-7b40-4240-a083-50d7a3b86638",
   "metadata": {
    "pycharm": {
     "name": "#%%\n"
    }
   },
   "outputs": [
    {
     "data": {
      "text/plain": "                                                 url  \\\n0  https://www.indeed.com/viewjob?jk=00a4d7932929...   \n1  https://www.indeed.com/viewjob?jk=0101872c28a8...   \n2  https://www.indeed.com/viewjob?jk=011d3dd5eb0c...   \n3  https://www.indeed.com/viewjob?jk=011d508f79b1...   \n4  https://www.indeed.com/viewjob?jk=013d358f1a88...   \n\n                                            job_info experience_level  \n0  <div class=\"jobsearch-ViewJobLayout-jobDisplay...      Entry level  \n1  <div class=\"jobsearch-ViewJobLayout-jobDisplay...      Entry level  \n2  <div class=\"jobsearch-ViewJobLayout-jobDisplay...     Senior level  \n3  <div class=\"jobsearch-ViewJobLayout-jobDisplay...     Senior level  \n4  <div class=\"jobsearch-ViewJobLayout-jobDisplay...        Mid level  ",
      "text/html": "<div>\n<style scoped>\n    .dataframe tbody tr th:only-of-type {\n        vertical-align: middle;\n    }\n\n    .dataframe tbody tr th {\n        vertical-align: top;\n    }\n\n    .dataframe thead th {\n        text-align: right;\n    }\n</style>\n<table border=\"1\" class=\"dataframe\">\n  <thead>\n    <tr style=\"text-align: right;\">\n      <th></th>\n      <th>url</th>\n      <th>job_info</th>\n      <th>experience_level</th>\n    </tr>\n  </thead>\n  <tbody>\n    <tr>\n      <th>0</th>\n      <td>https://www.indeed.com/viewjob?jk=00a4d7932929...</td>\n      <td>&lt;div class=\"jobsearch-ViewJobLayout-jobDisplay...</td>\n      <td>Entry level</td>\n    </tr>\n    <tr>\n      <th>1</th>\n      <td>https://www.indeed.com/viewjob?jk=0101872c28a8...</td>\n      <td>&lt;div class=\"jobsearch-ViewJobLayout-jobDisplay...</td>\n      <td>Entry level</td>\n    </tr>\n    <tr>\n      <th>2</th>\n      <td>https://www.indeed.com/viewjob?jk=011d3dd5eb0c...</td>\n      <td>&lt;div class=\"jobsearch-ViewJobLayout-jobDisplay...</td>\n      <td>Senior level</td>\n    </tr>\n    <tr>\n      <th>3</th>\n      <td>https://www.indeed.com/viewjob?jk=011d508f79b1...</td>\n      <td>&lt;div class=\"jobsearch-ViewJobLayout-jobDisplay...</td>\n      <td>Senior level</td>\n    </tr>\n    <tr>\n      <th>4</th>\n      <td>https://www.indeed.com/viewjob?jk=013d358f1a88...</td>\n      <td>&lt;div class=\"jobsearch-ViewJobLayout-jobDisplay...</td>\n      <td>Mid level</td>\n    </tr>\n  </tbody>\n</table>\n</div>"
     },
     "execution_count": 2,
     "metadata": {},
     "output_type": "execute_result"
    }
   ],
   "source": [
    "raw_jobs = pd.read_pickle(\"data/raw_jobs_copy.pkl\")\n",
    "raw_jobs.head()"
   ]
  },
  {
   "cell_type": "markdown",
   "id": "6cf66573-dc2c-4cfc-8567-63e35b2f873a",
   "metadata": {
    "jp-MarkdownHeadingCollapsed": true,
    "tags": [],
    "pycharm": {
     "name": "#%% md\n"
    }
   },
   "source": [
    "## The transforming stage"
   ]
  },
  {
   "cell_type": "markdown",
   "source": [
    "The transforming stage is happening in \"extract_jobs_features.py\".\n",
    "\n",
    "In this stage I extracted different features from the jobs loaded previously (you can see all of them in the dataset shown below). For these purposes I used bs4, re and nltk Python libraries."
   ],
   "metadata": {
    "collapsed": false,
    "pycharm": {
     "name": "#%% md\n"
    }
   }
  },
  {
   "cell_type": "code",
   "execution_count": 3,
   "id": "c5cf322d-3009-4fde-ad19-096bca3f6984",
   "metadata": {
    "pycharm": {
     "name": "#%%\n"
    }
   },
   "outputs": [
    {
     "data": {
      "text/plain": "                                                 url  \\\n0  https://www.indeed.com/viewjob?cmp=lcoleman%40...   \n1  https://www.indeed.com/viewjob?jk=001582624bed...   \n2  https://www.indeed.com/viewjob?jk=00432e5b8ab8...   \n3  https://www.indeed.com/viewjob?jk=0044911b6206...   \n4  https://www.indeed.com/viewjob?jk=00486361f7b8...   \n\n                                           job_title     company_name  \\\n0                                   Data Scientist I             None   \n1                               Product Review Clerk             None   \n2                                Senior Data Analyst       Sysco Labs   \n3                Data Analyst - Workplace Experience  Electronic Arts   \n4  Senior Deep Learning Scientist, Prediction - A...             None   \n\n  company_rating number_of_reviews annual_salary                location  \\\n0           None              None         59600  Fort Benning, GA 31905   \n1            3.2               434         44400       Lemoore, CA 93245   \n2            4.1                 9         97700        Austin, TX 78702   \n3            3.8               555          None         Los Angeles, CA   \n4            4.2               248          None             Redmond, WA   \n\n  remote full_time temporary internship experience_level    degree  \\\n0  False      True     False      False      Entry level  Bachelor   \n1  False      True     False      False        Mid level  Bachelor   \n2  False      True     False      False     Senior level  Bachelor   \n3  False      True     False      False        Mid level  Bachelor   \n4  False      True     False      False     Senior level       PhD   \n\n                                        requirements  \n0  statistical software,microsoft office,programm...  \n1                             microsoft office,excel  \n2  data visualization,power bi,cloud technologies...  \n3            sql,tableau,power bi,data visualization  \n4  tensorflow,machine learning with python,progra...  ",
      "text/html": "<div>\n<style scoped>\n    .dataframe tbody tr th:only-of-type {\n        vertical-align: middle;\n    }\n\n    .dataframe tbody tr th {\n        vertical-align: top;\n    }\n\n    .dataframe thead th {\n        text-align: right;\n    }\n</style>\n<table border=\"1\" class=\"dataframe\">\n  <thead>\n    <tr style=\"text-align: right;\">\n      <th></th>\n      <th>url</th>\n      <th>job_title</th>\n      <th>company_name</th>\n      <th>company_rating</th>\n      <th>number_of_reviews</th>\n      <th>annual_salary</th>\n      <th>location</th>\n      <th>remote</th>\n      <th>full_time</th>\n      <th>temporary</th>\n      <th>internship</th>\n      <th>experience_level</th>\n      <th>degree</th>\n      <th>requirements</th>\n    </tr>\n  </thead>\n  <tbody>\n    <tr>\n      <th>0</th>\n      <td>https://www.indeed.com/viewjob?cmp=lcoleman%40...</td>\n      <td>Data Scientist I</td>\n      <td>None</td>\n      <td>None</td>\n      <td>None</td>\n      <td>59600</td>\n      <td>Fort Benning, GA 31905</td>\n      <td>False</td>\n      <td>True</td>\n      <td>False</td>\n      <td>False</td>\n      <td>Entry level</td>\n      <td>Bachelor</td>\n      <td>statistical software,microsoft office,programm...</td>\n    </tr>\n    <tr>\n      <th>1</th>\n      <td>https://www.indeed.com/viewjob?jk=001582624bed...</td>\n      <td>Product Review Clerk</td>\n      <td>None</td>\n      <td>3.2</td>\n      <td>434</td>\n      <td>44400</td>\n      <td>Lemoore, CA 93245</td>\n      <td>False</td>\n      <td>True</td>\n      <td>False</td>\n      <td>False</td>\n      <td>Mid level</td>\n      <td>Bachelor</td>\n      <td>microsoft office,excel</td>\n    </tr>\n    <tr>\n      <th>2</th>\n      <td>https://www.indeed.com/viewjob?jk=00432e5b8ab8...</td>\n      <td>Senior Data Analyst</td>\n      <td>Sysco Labs</td>\n      <td>4.1</td>\n      <td>9</td>\n      <td>97700</td>\n      <td>Austin, TX 78702</td>\n      <td>False</td>\n      <td>True</td>\n      <td>False</td>\n      <td>False</td>\n      <td>Senior level</td>\n      <td>Bachelor</td>\n      <td>data visualization,power bi,cloud technologies...</td>\n    </tr>\n    <tr>\n      <th>3</th>\n      <td>https://www.indeed.com/viewjob?jk=0044911b6206...</td>\n      <td>Data Analyst - Workplace Experience</td>\n      <td>Electronic Arts</td>\n      <td>3.8</td>\n      <td>555</td>\n      <td>None</td>\n      <td>Los Angeles, CA</td>\n      <td>False</td>\n      <td>True</td>\n      <td>False</td>\n      <td>False</td>\n      <td>Mid level</td>\n      <td>Bachelor</td>\n      <td>sql,tableau,power bi,data visualization</td>\n    </tr>\n    <tr>\n      <th>4</th>\n      <td>https://www.indeed.com/viewjob?jk=00486361f7b8...</td>\n      <td>Senior Deep Learning Scientist, Prediction - A...</td>\n      <td>None</td>\n      <td>4.2</td>\n      <td>248</td>\n      <td>None</td>\n      <td>Redmond, WA</td>\n      <td>False</td>\n      <td>True</td>\n      <td>False</td>\n      <td>False</td>\n      <td>Senior level</td>\n      <td>PhD</td>\n      <td>tensorflow,machine learning with python,progra...</td>\n    </tr>\n  </tbody>\n</table>\n</div>"
     },
     "execution_count": 3,
     "metadata": {},
     "output_type": "execute_result"
    }
   ],
   "source": [
    "jobs = pd.read_pickle(\"data/jobs.pkl\")\n",
    "jobs.head()"
   ]
  },
  {
   "cell_type": "markdown",
   "source": [
    "The second part of the stage is happening in \"transform_requirements_data.py\".\n",
    "\n",
    "In this part I used jobs feature to get dataset that gives more convinient access to requirements data. The dataset is a table that keeps track of requirements' occurrences based on filters such as experience_level, degree, remote, etc.\n",
    "\n",
    "For example, row 3 tells us that we have found 5 remote, full-time, permanent jobs offers that require entry level experience, no degree, SQL knowledge and that is not an internship."
   ],
   "metadata": {
    "collapsed": false,
    "pycharm": {
     "name": "#%% md\n"
    }
   }
  },
  {
   "cell_type": "code",
   "execution_count": 4,
   "id": "99dd244f-1f40-42a5-abbb-1deb6abfa62c",
   "metadata": {
    "pycharm": {
     "name": "#%%\n"
    }
   },
   "outputs": [
    {
     "data": {
      "text/plain": "  group_of_requirements requirement experience_level     degree remote  \\\n0                   sql         sql      Entry level  No degree   True   \n1                   sql         sql      Entry level  No degree   True   \n2                   sql         sql      Entry level  No degree   True   \n3                   sql         sql      Entry level  No degree   True   \n4                   sql         sql      Entry level  No degree   True   \n\n  full_time temporary internship number_of_occurrences  \n0      True      True       True                     0  \n1      True      True      False                     0  \n2      True     False       True                     0  \n3      True     False      False                    29  \n4     False      True       True                     0  ",
      "text/html": "<div>\n<style scoped>\n    .dataframe tbody tr th:only-of-type {\n        vertical-align: middle;\n    }\n\n    .dataframe tbody tr th {\n        vertical-align: top;\n    }\n\n    .dataframe thead th {\n        text-align: right;\n    }\n</style>\n<table border=\"1\" class=\"dataframe\">\n  <thead>\n    <tr style=\"text-align: right;\">\n      <th></th>\n      <th>group_of_requirements</th>\n      <th>requirement</th>\n      <th>experience_level</th>\n      <th>degree</th>\n      <th>remote</th>\n      <th>full_time</th>\n      <th>temporary</th>\n      <th>internship</th>\n      <th>number_of_occurrences</th>\n    </tr>\n  </thead>\n  <tbody>\n    <tr>\n      <th>0</th>\n      <td>sql</td>\n      <td>sql</td>\n      <td>Entry level</td>\n      <td>No degree</td>\n      <td>True</td>\n      <td>True</td>\n      <td>True</td>\n      <td>True</td>\n      <td>0</td>\n    </tr>\n    <tr>\n      <th>1</th>\n      <td>sql</td>\n      <td>sql</td>\n      <td>Entry level</td>\n      <td>No degree</td>\n      <td>True</td>\n      <td>True</td>\n      <td>True</td>\n      <td>False</td>\n      <td>0</td>\n    </tr>\n    <tr>\n      <th>2</th>\n      <td>sql</td>\n      <td>sql</td>\n      <td>Entry level</td>\n      <td>No degree</td>\n      <td>True</td>\n      <td>True</td>\n      <td>False</td>\n      <td>True</td>\n      <td>0</td>\n    </tr>\n    <tr>\n      <th>3</th>\n      <td>sql</td>\n      <td>sql</td>\n      <td>Entry level</td>\n      <td>No degree</td>\n      <td>True</td>\n      <td>True</td>\n      <td>False</td>\n      <td>False</td>\n      <td>29</td>\n    </tr>\n    <tr>\n      <th>4</th>\n      <td>sql</td>\n      <td>sql</td>\n      <td>Entry level</td>\n      <td>No degree</td>\n      <td>True</td>\n      <td>False</td>\n      <td>True</td>\n      <td>True</td>\n      <td>0</td>\n    </tr>\n  </tbody>\n</table>\n</div>"
     },
     "execution_count": 4,
     "metadata": {},
     "output_type": "execute_result"
    }
   ],
   "source": [
    "reqs_df = pd.read_pickle(\"data/requirements.pkl\")\n",
    "reqs_df.head()"
   ]
  },
  {
   "cell_type": "markdown",
   "id": "a231cb38-027d-4e9b-a2ee-776dd88d5cf3",
   "metadata": {
    "jp-MarkdownHeadingCollapsed": true,
    "tags": [],
    "pycharm": {
     "name": "#%% md\n"
    }
   },
   "source": [
    "## The loading stage"
   ]
  },
  {
   "cell_type": "markdown",
   "id": "4e56675a-3233-431b-b4f0-aebaa49e4cf7",
   "metadata": {
    "pycharm": {
     "name": "#%% md\n"
    }
   },
   "source": [
    "The loading stage is happening in \"load_raw_jobs_to_db.py\" and \"load_features_to_db.py\".\n",
    "\n",
    "In this stage I connected to AWS RDS database using pymysql Python library, created table and loaded the raw_jobs and jobs datasets using MySQL to the database.\n",
    "\n",
    "Below you can see the tables schemas."
   ]
  },
  {
   "cell_type": "markdown",
   "source": [
    "CREATE TABLE IF NOT EXISTS raw_jobs (\n",
    "       url VARCHAR(255) NOT NULL PRIMARY KEY,\n",
    "       job_info VARCHAR(15000),\n",
    "       experience_level VARCHAR(255)\n",
    ")"
   ],
   "metadata": {
    "collapsed": false,
    "pycharm": {
     "name": "#%% md\n"
    }
   }
  },
  {
   "cell_type": "markdown",
   "source": [
    "CREATE TABLE IF NOT EXISTS jobs (\n",
    "    url VARCHAR(255) NOT NULL PRIMARY KEY,\n",
    "    job_title VARCHAR(255),\n",
    "    company_name VARCHAR(255),\n",
    "    company_rating INT,\n",
    "    number_of_reviews INT,\n",
    "    annual_salary FLOAT,\n",
    "    location VARCHAR(255),\n",
    "    remote BOOLEAN,\n",
    "    full_time BOOLEAN,\n",
    "    temporary BOOLEAN,\n",
    "    internship BOOLEAN,\n",
    "    experience_level VARCHAR(255),\n",
    "    degree VARCHAR(255),\n",
    "    requirements VARCHAR(1024)\n",
    ")"
   ],
   "metadata": {
    "collapsed": false,
    "pycharm": {
     "name": "#%% md\n"
    }
   }
  },
  {
   "cell_type": "markdown",
   "id": "15abe0b5-a802-4655-b33a-6778d05a2775",
   "metadata": {
    "jp-MarkdownHeadingCollapsed": true,
    "tags": [],
    "pycharm": {
     "name": "#%% md\n"
    }
   },
   "source": [
    "## The analysis stage"
   ]
  },
  {
   "cell_type": "markdown",
   "source": [
    "The analysis stage is happening in \"analysis_and_visualizations.ipynb\".\n",
    "\n",
    "In this stage I built visualizations of the collected data to get valuable insights about the field of data science."
   ],
   "metadata": {
    "collapsed": false,
    "pycharm": {
     "name": "#%% md\n"
    }
   }
  }
 ],
 "metadata": {
  "kernelspec": {
   "display_name": "Python 3 (ipykernel)",
   "language": "python",
   "name": "python3"
  },
  "language_info": {
   "codemirror_mode": {
    "name": "ipython",
    "version": 3
   },
   "file_extension": ".py",
   "mimetype": "text/x-python",
   "name": "python",
   "nbconvert_exporter": "python",
   "pygments_lexer": "ipython3",
   "version": "3.10.4"
  }
 },
 "nbformat": 4,
 "nbformat_minor": 5
}