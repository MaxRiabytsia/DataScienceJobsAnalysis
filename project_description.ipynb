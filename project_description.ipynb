{
 "cells": [
  {
   "cell_type": "code",
   "execution_count": 1,
   "id": "99cb1060-c74c-4b6f-b990-d5f5aa6764ea",
   "metadata": {
    "pycharm": {
     "name": "#%%\n"
    }
   },
   "outputs": [],
   "source": [
    "import pandas as pd"
   ]
  },
  {
   "cell_type": "markdown",
   "id": "de7a6cfe-a865-4a0d-8f93-686eae37fb69",
   "metadata": {
    "jp-MarkdownHeadingCollapsed": true,
    "tags": [],
    "pycharm": {
     "name": "#%% md\n"
    }
   },
   "source": [
    "## The extracting stage"
   ]
  },
  {
   "cell_type": "raw",
   "id": "cc32a460-f61d-47a2-b72e-0960d5946039",
   "metadata": {
    "pycharm": {
     "name": "#%% raw\n"
    }
   },
   "source": [
    "The extracting stage is happening in \"scrape_row_jobs.py\".\n",
    "\n",
    "In this stage I web-scraped data from search results of Indeed.com. To get the HTML of the pages I used requests Python library and for scraping I used bs4 Python library.\n",
    "\n",
    "I decided that it would be easier to get required experience levels for jobs by using Indeed filters rather than scraping this information from jobs' descriptions.\n",
    "\n",
    "In order to avoid receiving a CAPTCHA I added few time.sleep() functions for a few seconds to imitate human browsing speed.\n",
    "\n",
    "You can see the result of this stage as the dataset below."
   ]
  },
  {
   "cell_type": "code",
   "execution_count": 7,
   "id": "d94221fd-7b40-4240-a083-50d7a3b86638",
   "metadata": {
    "pycharm": {
     "name": "#%%\n"
    }
   },
   "outputs": [
    {
     "data": {
      "text/html": [
       "<div>\n",
       "<style scoped>\n",
       "    .dataframe tbody tr th:only-of-type {\n",
       "        vertical-align: middle;\n",
       "    }\n",
       "\n",
       "    .dataframe tbody tr th {\n",
       "        vertical-align: top;\n",
       "    }\n",
       "\n",
       "    .dataframe thead th {\n",
       "        text-align: right;\n",
       "    }\n",
       "</style>\n",
       "<table border=\"1\" class=\"dataframe\">\n",
       "  <thead>\n",
       "    <tr style=\"text-align: right;\">\n",
       "      <th></th>\n",
       "      <th>url</th>\n",
       "      <th>job_info</th>\n",
       "      <th>experience_level</th>\n",
       "    </tr>\n",
       "  </thead>\n",
       "  <tbody>\n",
       "    <tr>\n",
       "      <th>0</th>\n",
       "      <td>https://www.indeed.com/viewjob?jk=00a4d7932929...</td>\n",
       "      <td>&lt;div class=\"jobsearch-ViewJobLayout-jobDisplay...</td>\n",
       "      <td>Entry level</td>\n",
       "    </tr>\n",
       "    <tr>\n",
       "      <th>1</th>\n",
       "      <td>https://www.indeed.com/viewjob?jk=0101872c28a8...</td>\n",
       "      <td>&lt;div class=\"jobsearch-ViewJobLayout-jobDisplay...</td>\n",
       "      <td>Entry level</td>\n",
       "    </tr>\n",
       "    <tr>\n",
       "      <th>2</th>\n",
       "      <td>https://www.indeed.com/viewjob?jk=011d3dd5eb0c...</td>\n",
       "      <td>&lt;div class=\"jobsearch-ViewJobLayout-jobDisplay...</td>\n",
       "      <td>Senior level</td>\n",
       "    </tr>\n",
       "    <tr>\n",
       "      <th>3</th>\n",
       "      <td>https://www.indeed.com/viewjob?jk=011d508f79b1...</td>\n",
       "      <td>&lt;div class=\"jobsearch-ViewJobLayout-jobDisplay...</td>\n",
       "      <td>Senior level</td>\n",
       "    </tr>\n",
       "    <tr>\n",
       "      <th>4</th>\n",
       "      <td>https://www.indeed.com/viewjob?jk=013d358f1a88...</td>\n",
       "      <td>&lt;div class=\"jobsearch-ViewJobLayout-jobDisplay...</td>\n",
       "      <td>Mid level</td>\n",
       "    </tr>\n",
       "  </tbody>\n",
       "</table>\n",
       "</div>"
      ],
      "text/plain": [
       "                                                 url  \\\n",
       "0  https://www.indeed.com/viewjob?jk=00a4d7932929...   \n",
       "1  https://www.indeed.com/viewjob?jk=0101872c28a8...   \n",
       "2  https://www.indeed.com/viewjob?jk=011d3dd5eb0c...   \n",
       "3  https://www.indeed.com/viewjob?jk=011d508f79b1...   \n",
       "4  https://www.indeed.com/viewjob?jk=013d358f1a88...   \n",
       "\n",
       "                                            job_info experience_level  \n",
       "0  <div class=\"jobsearch-ViewJobLayout-jobDisplay...      Entry level  \n",
       "1  <div class=\"jobsearch-ViewJobLayout-jobDisplay...      Entry level  \n",
       "2  <div class=\"jobsearch-ViewJobLayout-jobDisplay...     Senior level  \n",
       "3  <div class=\"jobsearch-ViewJobLayout-jobDisplay...     Senior level  \n",
       "4  <div class=\"jobsearch-ViewJobLayout-jobDisplay...        Mid level  "
      ]
     },
     "execution_count": 7,
     "metadata": {},
     "output_type": "execute_result"
    }
   ],
   "source": [
    "raw_jobs = pd.read_pickle(\"data/raw_jobs_copy.pkl\")\n",
    "raw_jobs.head()"
   ]
  },
  {
   "cell_type": "markdown",
   "id": "6cf66573-dc2c-4cfc-8567-63e35b2f873a",
   "metadata": {
    "jp-MarkdownHeadingCollapsed": true,
    "tags": [],
    "pycharm": {
     "name": "#%% md\n"
    }
   },
   "source": [
    "## The transforming stage"
   ]
  },
  {
   "cell_type": "raw",
   "id": "0ea24ae2-48ab-4fe2-8181-a20bd85ed3e8",
   "metadata": {
    "pycharm": {
     "name": "#%% raw\n"
    }
   },
   "source": [
    "The transforming stage is happening in \"extract_jobs_features.py\".\n",
    "\n",
    "In this stage I extracted different features from the jobs loaded previously (you can see all of them in the dataset shown below). For these purposes I used bs4, re and nltk Python libraries."
   ]
  },
  {
   "cell_type": "code",
   "execution_count": 8,
   "id": "c5cf322d-3009-4fde-ad19-096bca3f6984",
   "metadata": {
    "pycharm": {
     "name": "#%%\n"
    }
   },
   "outputs": [
    {
     "data": {
      "text/html": [
       "<div>\n",
       "<style scoped>\n",
       "    .dataframe tbody tr th:only-of-type {\n",
       "        vertical-align: middle;\n",
       "    }\n",
       "\n",
       "    .dataframe tbody tr th {\n",
       "        vertical-align: top;\n",
       "    }\n",
       "\n",
       "    .dataframe thead th {\n",
       "        text-align: right;\n",
       "    }\n",
       "</style>\n",
       "<table border=\"1\" class=\"dataframe\">\n",
       "  <thead>\n",
       "    <tr style=\"text-align: right;\">\n",
       "      <th></th>\n",
       "      <th>url</th>\n",
       "      <th>job_title</th>\n",
       "      <th>company_name</th>\n",
       "      <th>company_rating</th>\n",
       "      <th>number_of_reviews</th>\n",
       "      <th>annual_salary</th>\n",
       "      <th>location</th>\n",
       "      <th>remote</th>\n",
       "      <th>full_time</th>\n",
       "      <th>temporary</th>\n",
       "      <th>internship</th>\n",
       "      <th>experience_level</th>\n",
       "      <th>degree</th>\n",
       "      <th>requirements</th>\n",
       "    </tr>\n",
       "  </thead>\n",
       "  <tbody>\n",
       "    <tr>\n",
       "      <th>0</th>\n",
       "      <td>https://www.indeed.com/viewjob?jk=00a4d7932929...</td>\n",
       "      <td>Physicochemical Data Scientists</td>\n",
       "      <td>ORAU</td>\n",
       "      <td>3.6</td>\n",
       "      <td>27</td>\n",
       "      <td>63980.8</td>\n",
       "      <td>Research Triangle Park, NC 27711</td>\n",
       "      <td>False</td>\n",
       "      <td>True</td>\n",
       "      <td>False</td>\n",
       "      <td>False</td>\n",
       "      <td>Entry level</td>\n",
       "      <td>Bachelor</td>\n",
       "      <td>python,r,sql,programming languages,database,java</td>\n",
       "    </tr>\n",
       "    <tr>\n",
       "      <th>1</th>\n",
       "      <td>https://www.indeed.com/viewjob?jk=0101872c28a8...</td>\n",
       "      <td>Jr Data Scientist (New York)</td>\n",
       "      <td>Viacom</td>\n",
       "      <td>3.9</td>\n",
       "      <td>1842</td>\n",
       "      <td>None</td>\n",
       "      <td>New York, NY 10036</td>\n",
       "      <td>False</td>\n",
       "      <td>True</td>\n",
       "      <td>False</td>\n",
       "      <td>False</td>\n",
       "      <td>Entry level</td>\n",
       "      <td>No degree</td>\n",
       "      <td>power bi,python,r,sql,programming languages,da...</td>\n",
       "    </tr>\n",
       "    <tr>\n",
       "      <th>2</th>\n",
       "      <td>https://www.indeed.com/viewjob?jk=011d3dd5eb0c...</td>\n",
       "      <td>Data Scientist - Lead</td>\n",
       "      <td>Seattle Children's</td>\n",
       "      <td>3.9</td>\n",
       "      <td>378</td>\n",
       "      <td>None</td>\n",
       "      <td>Seattle, WA</td>\n",
       "      <td>False</td>\n",
       "      <td>True</td>\n",
       "      <td>False</td>\n",
       "      <td>False</td>\n",
       "      <td>Senior level</td>\n",
       "      <td>Bachelor</td>\n",
       "      <td>power bi,python,r,sql,programming languages,da...</td>\n",
       "    </tr>\n",
       "    <tr>\n",
       "      <th>3</th>\n",
       "      <td>https://www.indeed.com/viewjob?jk=011d508f79b1...</td>\n",
       "      <td>Senior Data Analyst/Data Analyst</td>\n",
       "      <td>None</td>\n",
       "      <td>4.2</td>\n",
       "      <td>363</td>\n",
       "      <td>66000.0</td>\n",
       "      <td>Reno, NV</td>\n",
       "      <td>False</td>\n",
       "      <td>True</td>\n",
       "      <td>False</td>\n",
       "      <td>False</td>\n",
       "      <td>Senior level</td>\n",
       "      <td>Bachelor</td>\n",
       "      <td>c,r,sql,programming languages,javascript,database</td>\n",
       "    </tr>\n",
       "    <tr>\n",
       "      <th>4</th>\n",
       "      <td>https://www.indeed.com/viewjob?jk=013d358f1a88...</td>\n",
       "      <td>Data Analyst</td>\n",
       "      <td>None</td>\n",
       "      <td>None</td>\n",
       "      <td>None</td>\n",
       "      <td>92150</td>\n",
       "      <td>None</td>\n",
       "      <td>True</td>\n",
       "      <td>True</td>\n",
       "      <td>False</td>\n",
       "      <td>False</td>\n",
       "      <td>Mid level</td>\n",
       "      <td>No degree</td>\n",
       "      <td>power bi,data warehousing,google cloud,sql,dat...</td>\n",
       "    </tr>\n",
       "  </tbody>\n",
       "</table>\n",
       "</div>"
      ],
      "text/plain": [
       "                                                 url  \\\n",
       "0  https://www.indeed.com/viewjob?jk=00a4d7932929...   \n",
       "1  https://www.indeed.com/viewjob?jk=0101872c28a8...   \n",
       "2  https://www.indeed.com/viewjob?jk=011d3dd5eb0c...   \n",
       "3  https://www.indeed.com/viewjob?jk=011d508f79b1...   \n",
       "4  https://www.indeed.com/viewjob?jk=013d358f1a88...   \n",
       "\n",
       "                          job_title        company_name company_rating  \\\n",
       "0   Physicochemical Data Scientists                ORAU            3.6   \n",
       "1      Jr Data Scientist (New York)              Viacom            3.9   \n",
       "2             Data Scientist - Lead  Seattle Children's            3.9   \n",
       "3  Senior Data Analyst/Data Analyst                None            4.2   \n",
       "4                      Data Analyst                None           None   \n",
       "\n",
       "  number_of_reviews annual_salary                          location remote  \\\n",
       "0                27       63980.8  Research Triangle Park, NC 27711  False   \n",
       "1              1842          None                New York, NY 10036  False   \n",
       "2               378          None                       Seattle, WA  False   \n",
       "3               363       66000.0                          Reno, NV  False   \n",
       "4              None         92150                              None   True   \n",
       "\n",
       "  full_time temporary internship experience_level     degree  \\\n",
       "0      True     False      False      Entry level   Bachelor   \n",
       "1      True     False      False      Entry level  No degree   \n",
       "2      True     False      False     Senior level   Bachelor   \n",
       "3      True     False      False     Senior level   Bachelor   \n",
       "4      True     False      False        Mid level  No degree   \n",
       "\n",
       "                                        requirements  \n",
       "0   python,r,sql,programming languages,database,java  \n",
       "1  power bi,python,r,sql,programming languages,da...  \n",
       "2  power bi,python,r,sql,programming languages,da...  \n",
       "3  c,r,sql,programming languages,javascript,database  \n",
       "4  power bi,data warehousing,google cloud,sql,dat...  "
      ]
     },
     "execution_count": 8,
     "metadata": {},
     "output_type": "execute_result"
    }
   ],
   "source": [
    "jobs = pd.read_pickle(\"data/jobs.pkl\")\n",
    "jobs.head()"
   ]
  },
  {
   "cell_type": "raw",
   "id": "4e787c80-27ef-4768-9e24-f799c17ba476",
   "metadata": {
    "pycharm": {
     "name": "#%% raw\n"
    }
   },
   "source": [
    "The second part of the stage is happening in \"transform_requirements_data.py\".\n",
    "\n",
    "In this part I used jobs feature to get dataset that gives more convinient access to requirements data. The dataset is a table that keeps track of requirements' occurrences based on filters such as experience_level, degree, remote, etc.\n",
    "\n",
    "For example, row 3 tells us that we have found 5 remote, full-time, permanent jobs offers that require entry level experience, no degree, SQL knowledge and that is not an internship."
   ]
  },
  {
   "cell_type": "code",
   "execution_count": 9,
   "id": "99dd244f-1f40-42a5-abbb-1deb6abfa62c",
   "metadata": {
    "pycharm": {
     "name": "#%%\n"
    }
   },
   "outputs": [
    {
     "data": {
      "text/html": [
       "<div>\n",
       "<style scoped>\n",
       "    .dataframe tbody tr th:only-of-type {\n",
       "        vertical-align: middle;\n",
       "    }\n",
       "\n",
       "    .dataframe tbody tr th {\n",
       "        vertical-align: top;\n",
       "    }\n",
       "\n",
       "    .dataframe thead th {\n",
       "        text-align: right;\n",
       "    }\n",
       "</style>\n",
       "<table border=\"1\" class=\"dataframe\">\n",
       "  <thead>\n",
       "    <tr style=\"text-align: right;\">\n",
       "      <th></th>\n",
       "      <th>group_of_requirements</th>\n",
       "      <th>requirement</th>\n",
       "      <th>experience_level</th>\n",
       "      <th>degree</th>\n",
       "      <th>remote</th>\n",
       "      <th>full_time</th>\n",
       "      <th>temporary</th>\n",
       "      <th>internship</th>\n",
       "      <th>number_of_occurrences</th>\n",
       "    </tr>\n",
       "  </thead>\n",
       "  <tbody>\n",
       "    <tr>\n",
       "      <th>0</th>\n",
       "      <td>sql</td>\n",
       "      <td>sql</td>\n",
       "      <td>Entry level</td>\n",
       "      <td>No degree</td>\n",
       "      <td>True</td>\n",
       "      <td>True</td>\n",
       "      <td>True</td>\n",
       "      <td>True</td>\n",
       "      <td>0</td>\n",
       "    </tr>\n",
       "    <tr>\n",
       "      <th>1</th>\n",
       "      <td>sql</td>\n",
       "      <td>sql</td>\n",
       "      <td>Entry level</td>\n",
       "      <td>No degree</td>\n",
       "      <td>True</td>\n",
       "      <td>True</td>\n",
       "      <td>True</td>\n",
       "      <td>False</td>\n",
       "      <td>0</td>\n",
       "    </tr>\n",
       "    <tr>\n",
       "      <th>2</th>\n",
       "      <td>sql</td>\n",
       "      <td>sql</td>\n",
       "      <td>Entry level</td>\n",
       "      <td>No degree</td>\n",
       "      <td>True</td>\n",
       "      <td>True</td>\n",
       "      <td>False</td>\n",
       "      <td>True</td>\n",
       "      <td>0</td>\n",
       "    </tr>\n",
       "    <tr>\n",
       "      <th>3</th>\n",
       "      <td>sql</td>\n",
       "      <td>sql</td>\n",
       "      <td>Entry level</td>\n",
       "      <td>No degree</td>\n",
       "      <td>True</td>\n",
       "      <td>True</td>\n",
       "      <td>False</td>\n",
       "      <td>False</td>\n",
       "      <td>5</td>\n",
       "    </tr>\n",
       "    <tr>\n",
       "      <th>4</th>\n",
       "      <td>sql</td>\n",
       "      <td>sql</td>\n",
       "      <td>Entry level</td>\n",
       "      <td>No degree</td>\n",
       "      <td>True</td>\n",
       "      <td>False</td>\n",
       "      <td>True</td>\n",
       "      <td>True</td>\n",
       "      <td>0</td>\n",
       "    </tr>\n",
       "  </tbody>\n",
       "</table>\n",
       "</div>"
      ],
      "text/plain": [
       "  group_of_requirements requirement experience_level     degree remote  \\\n",
       "0                   sql         sql      Entry level  No degree   True   \n",
       "1                   sql         sql      Entry level  No degree   True   \n",
       "2                   sql         sql      Entry level  No degree   True   \n",
       "3                   sql         sql      Entry level  No degree   True   \n",
       "4                   sql         sql      Entry level  No degree   True   \n",
       "\n",
       "  full_time temporary internship number_of_occurrences  \n",
       "0      True      True       True                     0  \n",
       "1      True      True      False                     0  \n",
       "2      True     False       True                     0  \n",
       "3      True     False      False                     5  \n",
       "4     False      True       True                     0  "
      ]
     },
     "execution_count": 9,
     "metadata": {},
     "output_type": "execute_result"
    }
   ],
   "source": [
    "reqs_df = pd.read_pickle(\"data/requirements.pkl\")\n",
    "reqs_df.head()"
   ]
  },
  {
   "cell_type": "code",
   "execution_count": null,
   "id": "0b451f78-f7a8-46da-a259-b991be85c1ab",
   "metadata": {
    "pycharm": {
     "name": "#%%\n"
    }
   },
   "outputs": [],
   "source": []
  },
  {
   "cell_type": "markdown",
   "id": "a231cb38-027d-4e9b-a2ee-776dd88d5cf3",
   "metadata": {
    "jp-MarkdownHeadingCollapsed": true,
    "tags": [],
    "pycharm": {
     "name": "#%% md\n"
    }
   },
   "source": [
    "## The loading stage"
   ]
  },
  {
   "cell_type": "markdown",
   "id": "4e56675a-3233-431b-b4f0-aebaa49e4cf7",
   "metadata": {
    "pycharm": {
     "name": "#%% md\n"
    }
   },
   "source": [
    "The loading stage is happening in \"load_raw_jobs_to_db.py\" and \"load_features_to_db.py\".\n",
    "\n",
    "In this stage I connected to AWS RDS database using pymysql Python library, created table and loaded the raw_jobs and jobs datasets using MySQL to the database.\n",
    "\n",
    "Below you can see the tables schemas."
   ]
  },
  {
   "cell_type": "raw",
   "id": "ff13ad58-2116-42cb-848b-63b1ee9b9ca8",
   "metadata": {
    "pycharm": {
     "name": "#%% raw\n"
    }
   },
   "source": [
    "CREATE TABLE IF NOT EXISTS raw_jobs (\n",
    "    url VARCHAR(255) NOT NULL PRIMARY KEY,\n",
    "    job_info VARCHAR(15000),\n",
    "    experience_level VARCHAR(255)\n",
    ")"
   ]
  },
  {
   "cell_type": "raw",
   "id": "b12a8386-8913-4d56-b4c6-9cc6bf0b478a",
   "metadata": {
    "pycharm": {
     "name": "#%% raw\n"
    }
   },
   "source": [
    "CREATE TABLE IF NOT EXISTS jobs (\n",
    "    url VARCHAR(255) NOT NULL PRIMARY KEY,\n",
    "    job_title VARCHAR(255),\n",
    "    company_name VARCHAR(255),\n",
    "    company_rating INT,\n",
    "    number_of_reviews INT,\n",
    "    annual_salary FLOAT,\n",
    "    location VARCHAR(255),\n",
    "    remote BOOLEAN,\n",
    "    full_time BOOLEAN,\n",
    "    temporary BOOLEAN,\n",
    "    internship BOOLEAN,\n",
    "    experience_level VARCHAR(255),\n",
    "    degree VARCHAR(255),\n",
    "    requirements VARCHAR(1024)\n",
    ")"
   ]
  },
  {
   "cell_type": "markdown",
   "id": "15abe0b5-a802-4655-b33a-6778d05a2775",
   "metadata": {
    "jp-MarkdownHeadingCollapsed": true,
    "tags": [],
    "pycharm": {
     "name": "#%% md\n"
    }
   },
   "source": [
    "## The analysis stage"
   ]
  },
  {
   "cell_type": "raw",
   "id": "cba4a7b3-d0cc-47e3-942f-698231bf182c",
   "metadata": {
    "pycharm": {
     "name": "#%% raw\n"
    }
   },
   "source": [
    "The analysis stage is happening in \"analysis_and_visualizations.ipynb\".\n",
    "\n",
    "In this stage I built visualizations of the collected data to get valuable insights about the field of data science."
   ]
  }
 ],
 "metadata": {
  "kernelspec": {
   "display_name": "Python 3 (ipykernel)",
   "language": "python",
   "name": "python3"
  },
  "language_info": {
   "codemirror_mode": {
    "name": "ipython",
    "version": 3
   },
   "file_extension": ".py",
   "mimetype": "text/x-python",
   "name": "python",
   "nbconvert_exporter": "python",
   "pygments_lexer": "ipython3",
   "version": "3.10.4"
  }
 },
 "nbformat": 4,
 "nbformat_minor": 5
}